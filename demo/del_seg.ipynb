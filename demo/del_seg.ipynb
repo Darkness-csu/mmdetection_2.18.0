{
 "cells": [
  {
   "cell_type": "code",
   "execution_count": 1,
   "metadata": {},
   "outputs": [],
   "source": [
    "import json"
   ]
  },
  {
   "cell_type": "code",
   "execution_count": 2,
   "metadata": {},
   "outputs": [],
   "source": [
    "def get_gt(json_path):\n",
    "    with open(json_path + '.json', 'r') as f:\n",
    "        data = json.load(f)\n",
    "    \n",
    "    gt_label = []\n",
    "    data_ann = data.get(\"annotations\")\n",
    "    for ann in data_ann:\n",
    "        if ann[\"image_id\"] == 111040:\n",
    "            ann[\"bbox\"].append(1)\n",
    "            gt_label.append(ann[\"bbox\"])\n",
    "    \n",
    "    return gt_label\n",
    "    "
   ]
  },
  {
   "cell_type": "code",
   "execution_count": 3,
   "metadata": {},
   "outputs": [
    {
     "data": {
      "text/plain": [
       "[[128.0, 804.0, 455.0, 370.0, 1],\n",
       " [2150.0, 380.0, 491.0, 340.0, 1],\n",
       " [1895.0, 2597.0, 316.0, 193.0, 1],\n",
       " [3469.0, 2604.0, 218.0, 172.0, 1],\n",
       " [2234.0, 929.0, 422.0, 436.0, 1],\n",
       " [505.0, 2464.0, 322.0, 307.0, 1],\n",
       " [1730.0, 236.0, 220.0, 200.0, 1],\n",
       " [112.0, 0.0, 140.0, 176.0, 1],\n",
       " [2084.0, 1247.0, 333.0, 248.0, 1],\n",
       " [2057.0, 1721.0, 242.0, 231.0, 1],\n",
       " [2617.0, 2694.0, 119.0, 105.0, 1],\n",
       " [2872.0, 2601.0, 190.0, 209.0, 1]]"
      ]
     },
     "execution_count": 3,
     "metadata": {},
     "output_type": "execute_result"
    }
   ],
   "source": [
    "get_gt(\"/root/commonfile/fs/TCT_JPEGImages/train30000-cat10\")"
   ]
  },
  {
   "cell_type": "code",
   "execution_count": 32,
   "metadata": {},
   "outputs": [],
   "source": [
    "def change_to_cat9(json_path):\n",
    "    with open(json_path + '.json', 'r') as f:\n",
    "        data = json.load(f)\n",
    "  \n",
    "    data_ann = data.get(\"annotations\")\n",
    "    ann_new = []\n",
    "    for ann in data_ann:\n",
    "        if ann['category_id'] == 0:\n",
    "            continue\n",
    "        else:\n",
    "            ann['category_id'] = ann['category_id'] - 1\n",
    "            ann['segmentation'] = [[248.15,290.12,249.47,289.46,251.16,285.69,258.13,285.69,258.13,289.18,261.99,290.4,262.27,292.47,257.94,293.04,256.15,296.99,255.77,297.74,258.97,297.74,263.4,300.29,265.85,306.22,267.54,317.99,268.11,324.29,264.25,324.29,261.99,326.08,264.81,329.47,265.38,340.58,265.75,344.35,266.13,351.6,264.53,358.28,259.54,368.82,259.44,369.77,258.22,375.41,253.98,375.23,252.29,372.12,253.98,364.68,258.6,355.74,258.13,348.21,258.22,348.11,256.9,343.22,254.08,339.07,253.23,341.8,253.23,341.8,252.76,348.58,250.5,353.95,249.56,367.51,250.5,376.45,246.08,377.67,243.16,374.66,242.88,372.68,242.69,355.74,242.12,338.79,241.84,331.35,241.93,331.35,241.37,323.16,241.65,321.0,244.85,320.9,245.79,319.12,246.55,317.52,247.39,316.1,247.96,313.75,246.08,310.64,245.51,306.5,245.13,301.32,245.61,298.78,248.71,297.46,248.9,294.92,248.9,293.13,249.65,291.53]]\n",
    "            ann_new.append(ann)\n",
    "    data[\"annotations\"] = ann_new\n",
    "    \n",
    "    data_cat = data.get(\"categories\")\n",
    "    cat_new = []\n",
    "    for cat in data_cat:\n",
    "        if cat['id'] == 0:\n",
    "            continue\n",
    "        else:\n",
    "            cat['id'] = cat['id'] - 1\n",
    "            cat_new.append(cat)\n",
    "    data[\"categories\"] = cat_new\n",
    " \n",
    "    with open(json_path + \"_cat9.json\", \"w\") as f:\n",
    "        content = json.dumps(data)\n",
    "        f.write(content)"
   ]
  },
  {
   "cell_type": "code",
   "execution_count": 33,
   "metadata": {},
   "outputs": [],
   "source": [
    "change_to_cat9(\"/root/commonfile/fs/TCT_JPEGImages/test5000-cat10\")"
   ]
  },
  {
   "cell_type": "code",
   "execution_count": 2,
   "metadata": {},
   "outputs": [],
   "source": [
    "def dealwith_result(json_path):\n",
    "    with open(json_path + '.bbox.json', 'r') as f:\n",
    "        data = json.load(f)\n",
    "    \n",
    "    data_new = []\n",
    "    for d in data:\n",
    "        if d['category_id'] == 0:\n",
    "            continue\n",
    "        else:\n",
    "            d['category_id'] = d['category_id'] - 1\n",
    "            data_new.append(d)\n",
    "    \n",
    "    with open(json_path + '_cat9.bbox.json', 'w') as f:\n",
    "        json.dump(data_new, f)\n",
    "        "
   ]
  },
  {
   "cell_type": "code",
   "execution_count": 3,
   "metadata": {},
   "outputs": [],
   "source": [
    "dealwith_result(\"/root/userfolder/mmdet-2.18/mmdetection/work_dir/sparse_rcnn_new/byimage/test_result_new.json\")"
   ]
  },
  {
   "cell_type": "code",
   "execution_count": 21,
   "metadata": {},
   "outputs": [],
   "source": [
    "def watch_json(json_path):\n",
    "    with open(json_path + '.json', 'r') as f:\n",
    "        data = json.load(f)\n",
    "  \n",
    "    data_ann = data.get(\"annotations\")\n",
    "    print(data_ann[0][\"segmentation\"])"
   ]
  },
  {
   "cell_type": "code",
   "execution_count": 26,
   "metadata": {},
   "outputs": [
    {
     "name": "stdout",
     "output_type": "stream",
     "text": [
      "[[[777.0], [2318.0], [906.0], [2318.0], [906.0], [2440.0], [777.0], [2440.0]]]\n"
     ]
    }
   ],
   "source": [
    "watch_json(\"/root/commonfile/fs/TCT_JPEGImages/test5000-cat10_cat9\")"
   ]
  },
  {
   "cell_type": "code",
   "execution_count": 23,
   "metadata": {},
   "outputs": [
    {
     "data": {
      "text/plain": [
       "[2]"
      ]
     },
     "execution_count": 23,
     "metadata": {},
     "output_type": "execute_result"
    }
   ],
   "source": [
    "seg = 2\n",
    "seg = [seg]\n",
    "seg"
   ]
  },
  {
   "cell_type": "code",
   "execution_count": 29,
   "metadata": {},
   "outputs": [],
   "source": [
    "def change_to_del_cat9(json_path):\n",
    "    with open(json_path + '.json', 'r') as f:\n",
    "        data = json.load(f)\n",
    "  \n",
    "    data_ann = data.get(\"annotations\")\n",
    "    ann_new = []\n",
    "    for ann in data_ann:\n",
    "        del ann[\"segmentation\"]\n",
    "        if ann['category_id'] == 0:\n",
    "            continue\n",
    "        else:\n",
    "            ann['category_id'] = ann['category_id'] - 1\n",
    "            ann_new.append(ann)\n",
    "    data[\"annotations\"] = ann_new\n",
    "    \n",
    "    data_cat = data.get(\"categories\")\n",
    "    cat_new = []\n",
    "    for cat in data_cat:\n",
    "        if cat['id'] == 0:\n",
    "            continue\n",
    "        else:\n",
    "            cat['id'] = cat['id'] - 1\n",
    "            cat_new.append(cat)\n",
    "    data[\"categories\"] = cat_new\n",
    " \n",
    "    with open(json_path + \"_del_cat9.json\", \"w\") as f:\n",
    "        content = json.dumps(data)\n",
    "        f.write(content)"
   ]
  },
  {
   "cell_type": "code",
   "execution_count": 30,
   "metadata": {},
   "outputs": [],
   "source": [
    "change_to_del_cat9(\"/root/commonfile/fs/TCT_JPEGImages/test5000-cat10\")"
   ]
  }
 ],
 "metadata": {
  "kernelspec": {
   "display_name": "Python 3.7.13 ('grx_tct': conda)",
   "language": "python",
   "name": "python3"
  },
  "language_info": {
   "codemirror_mode": {
    "name": "ipython",
    "version": 3
   },
   "file_extension": ".py",
   "mimetype": "text/x-python",
   "name": "python",
   "nbconvert_exporter": "python",
   "pygments_lexer": "ipython3",
   "version": "3.7.13"
  },
  "orig_nbformat": 4,
  "vscode": {
   "interpreter": {
    "hash": "24de98a94e63f21465cbc7296c0d37472c554f1d897a1bd7b76a8902f22a9c0d"
   }
  }
 },
 "nbformat": 4,
 "nbformat_minor": 2
}
